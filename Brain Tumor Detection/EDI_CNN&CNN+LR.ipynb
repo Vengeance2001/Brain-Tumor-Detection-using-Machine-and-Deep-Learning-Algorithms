{
  "nbformat": 4,
  "nbformat_minor": 0,
  "metadata": {
    "colab": {
      "provenance": []
    },
    "kernelspec": {
      "name": "python3",
      "display_name": "Python 3"
    },
    "language_info": {
      "name": "python"
    },
    "accelerator": "GPU",
    "gpuClass": "standard"
  },
  "cells": [
    {
      "cell_type": "code",
      "execution_count": null,
      "metadata": {
        "id": "-wkiYdlZLs9b"
      },
      "outputs": [],
      "source": [
        "import warnings\n",
        "warnings.filterwarnings('ignore')"
      ]
    },
    {
      "cell_type": "markdown",
      "source": [],
      "metadata": {
        "id": "IcCcXw2Yv087"
      }
    },
    {
      "cell_type": "code",
      "source": [
        "import pandas as pd\n",
        "import numpy as np\n",
        "import cv2\n",
        "import os\n",
        "import tensorflow as tf\n",
        "os.environ['TF_CPP_MIN_LOG_LEVEL'] = '3'\n",
        "\n",
        "from keras.models import Sequential\n",
        "from keras.layers import Dense, Flatten, Conv2D, MaxPooling2D\n",
        "from keras.layers import Input, Activation, LeakyReLU, Dropout\n",
        "from keras.losses import BinaryCrossentropy\n",
        "from tensorflow.keras.optimizers import Adam\n",
        "\n",
        "import matplotlib.pyplot as plt\n",
        "from sklearn.model_selection import train_test_split\n",
        "from sklearn.metrics import classification_report, confusion_matrix"
      ],
      "metadata": {
        "id": "HG5aN79jd39C"
      },
      "execution_count": null,
      "outputs": []
    },
    {
      "cell_type": "code",
      "source": [
        "\n",
        "import os\n",
        "\n",
        "dataset_path = '/content/drive/MyDrive/archive (2)/brain_tumor_dataset'\n",
        "\n",
        "folders = os.listdir(dataset_path)\n",
        "print(folders)\n"
      ],
      "metadata": {
        "colab": {
          "base_uri": "https://localhost:8080/"
        },
        "id": "-FmnK3Qxd3_G",
        "outputId": "14d75e2c-152b-408f-bc2d-5700375cf0d3"
      },
      "execution_count": null,
      "outputs": [
        {
          "output_type": "stream",
          "name": "stdout",
          "text": [
            "['yes', 'no', 'test']\n"
          ]
        }
      ]
    },
    {
      "cell_type": "code",
      "source": [
        "subdirs = os.listdir(dataset_path)[:2]\n",
        "for subdir in subdirs:\n",
        "    print(f\"{subdir} contains {len(os.listdir(dataset_path+'/'+subdir))} images\")"
      ],
      "metadata": {
        "colab": {
          "base_uri": "https://localhost:8080/"
        },
        "id": "W6I34fG0d4Bc",
        "outputId": "895fcf87-f8a1-4399-e1bf-d6f77adec600"
      },
      "execution_count": null,
      "outputs": [
        {
          "output_type": "stream",
          "name": "stdout",
          "text": [
            "yes contains 155 images\n",
            "no contains 98 images\n"
          ]
        }
      ]
    },
    {
      "cell_type": "code",
      "source": [
        "def load_images(folder):\n",
        "\n",
        "    imgs = []\n",
        "    target = 0\n",
        "    labels = []\n",
        "    for i in os.listdir(folder):\n",
        "        subdir = os.path.join(folder, i)\n",
        "        for j in os.listdir(subdir):\n",
        "            img_dir = os.path.join(subdir,j)\n",
        "            try:\n",
        "                img = cv2.imread(img_dir)\n",
        "                img = cv2.cvtColor(img, cv2.COLOR_BGR2GRAY)\n",
        "                img = cv2.resize(img, (128,128))\n",
        "                imgs.append(img)\n",
        "                labels.append(target)\n",
        "            except:\n",
        "                continue\n",
        "        target += 1\n",
        "\n",
        "    imgs = np.array(imgs)\n",
        "    labels = np.array(labels)\n",
        "\n",
        "    return imgs, labels\n",
        "\n",
        "\n"
      ],
      "metadata": {
        "id": "teI-AyO5d4DW"
      },
      "execution_count": null,
      "outputs": []
    },
    {
      "cell_type": "code",
      "source": [
        "data, labels = load_images(dataset_path)\n",
        "data.shape, labels.shape\n"
      ],
      "metadata": {
        "colab": {
          "base_uri": "https://localhost:8080/"
        },
        "id": "ZaWxCK4Yd4FS",
        "outputId": "b813fcd5-f551-4b72-92c4-79365bac917f"
      },
      "execution_count": null,
      "outputs": [
        {
          "output_type": "execute_result",
          "data": {
            "text/plain": [
              "((254, 128, 128), (254,))"
            ]
          },
          "metadata": {},
          "execution_count": 6
        }
      ]
    },
    {
      "cell_type": "code",
      "source": [
        "\n"
      ],
      "metadata": {
        "id": "VYz1m9Mqd4HE"
      },
      "execution_count": null,
      "outputs": []
    },
    {
      "cell_type": "code",
      "source": [
        "norm_data = data / 255.\n",
        "norm_data = np.expand_dims(norm_data, axis=3)\n",
        "norm_data.shape, norm_data[0]"
      ],
      "metadata": {
        "id": "WPji6WTId4I6",
        "colab": {
          "base_uri": "https://localhost:8080/"
        },
        "outputId": "82e07947-281e-4e8e-f594-9a708be5c8a4"
      },
      "execution_count": null,
      "outputs": [
        {
          "output_type": "execute_result",
          "data": {
            "text/plain": [
              "((254, 128, 128, 1),\n",
              " array([[[0.01176471],\n",
              "         [0.01176471],\n",
              "         [0.01176471],\n",
              "         ...,\n",
              "         [0.00784314],\n",
              "         [0.00784314],\n",
              "         [0.00784314]],\n",
              " \n",
              "        [[0.01176471],\n",
              "         [0.01176471],\n",
              "         [0.01176471],\n",
              "         ...,\n",
              "         [0.00784314],\n",
              "         [0.00784314],\n",
              "         [0.00784314]],\n",
              " \n",
              "        [[0.01176471],\n",
              "         [0.01176471],\n",
              "         [0.01176471],\n",
              "         ...,\n",
              "         [0.00784314],\n",
              "         [0.00784314],\n",
              "         [0.00784314]],\n",
              " \n",
              "        ...,\n",
              " \n",
              "        [[0.00784314],\n",
              "         [0.00784314],\n",
              "         [0.00784314],\n",
              "         ...,\n",
              "         [0.00784314],\n",
              "         [0.00784314],\n",
              "         [0.01176471]],\n",
              " \n",
              "        [[0.00784314],\n",
              "         [0.00784314],\n",
              "         [0.00784314],\n",
              "         ...,\n",
              "         [0.00784314],\n",
              "         [0.00784314],\n",
              "         [0.01176471]],\n",
              " \n",
              "        [[0.00784314],\n",
              "         [0.00784314],\n",
              "         [0.00784314],\n",
              "         ...,\n",
              "         [0.00392157],\n",
              "         [0.00392157],\n",
              "         [0.00784314]]]))"
            ]
          },
          "metadata": {},
          "execution_count": 7
        }
      ]
    },
    {
      "cell_type": "code",
      "source": [],
      "metadata": {
        "id": "qcZgmIi6d4K2"
      },
      "execution_count": null,
      "outputs": []
    },
    {
      "cell_type": "code",
      "source": [
        "# this is test code\n",
        "tf.random.set_seed(21)\n",
        "model = tf.keras.models.Sequential([\n",
        "    tf.keras.layers.Conv2D(filters=64,\n",
        "                           kernel_size=3,\n",
        "                           activation='relu',\n",
        "                           input_shape=(128,128,1)),\n",
        "    tf.keras.layers.Conv2D(32,3,activation='relu'),\n",
        "    tf.keras.layers.MaxPool2D(pool_size=2,\n",
        "                              padding='valid'),\n",
        "    tf.keras.layers.Conv2D(32,3,activation='relu'),\n",
        "    tf.keras.layers.Conv2D(16,3,activation='relu'),\n",
        "    tf.keras.layers.MaxPool2D(2),\n",
        "    tf.keras.layers.Flatten(),\n",
        "    tf.keras.layers.Dense(1, activation='sigmoid')\n",
        "])"
      ],
      "metadata": {
        "id": "B-2xPsroSZZb"
      },
      "execution_count": null,
      "outputs": []
    },
    {
      "cell_type": "markdown",
      "source": [
        "This the combination of logistic regression and CNN"
      ],
      "metadata": {
        "id": "cmNnzvd4liCF"
      }
    },
    {
      "cell_type": "code",
      "source": [
        "logistic_regression = tf.keras.layers.Dense(1, activation='sigmoid')"
      ],
      "metadata": {
        "id": "pHJgrmR9kq28"
      },
      "execution_count": null,
      "outputs": []
    },
    {
      "cell_type": "code",
      "source": [],
      "metadata": {
        "id": "cUQeYJs9qMBm"
      },
      "execution_count": null,
      "outputs": []
    },
    {
      "cell_type": "code",
      "source": [
        "combined_model = Sequential()\n",
        "combined_model.add(model)\n",
        "combined_model.add(logistic_regression)\n",
        "\n",
        "combined_model.compile(loss = tf.keras.losses.BinaryCrossentropy(),\n",
        "                       optimizer = tf.keras.optimizers.Adam(),\n",
        "                       metrics = [\"accuracy\"])"
      ],
      "metadata": {
        "id": "bLdDpF42kq44"
      },
      "execution_count": null,
      "outputs": []
    },
    {
      "cell_type": "code",
      "source": [
        "history = combined_model.fit(norm_data, labels, epochs = 55, validation_split = 0.20)"
      ],
      "metadata": {
        "id": "zaaLvnKukq8O",
        "colab": {
          "base_uri": "https://localhost:8080/"
        },
        "outputId": "06c5bd6b-1def-4580-9076-713b0a6060da"
      },
      "execution_count": null,
      "outputs": [
        {
          "output_type": "stream",
          "name": "stdout",
          "text": [
            "Epoch 1/55\n",
            "7/7 [==============================] - 13s 251ms/step - loss: 0.6105 - accuracy: 0.7635 - val_loss: 0.9749 - val_accuracy: 0.0000e+00\n",
            "Epoch 2/55\n",
            "7/7 [==============================] - 0s 36ms/step - loss: 0.5937 - accuracy: 0.7635 - val_loss: 0.9832 - val_accuracy: 0.0000e+00\n",
            "Epoch 3/55\n",
            "7/7 [==============================] - 0s 36ms/step - loss: 0.5919 - accuracy: 0.7635 - val_loss: 0.9908 - val_accuracy: 0.0000e+00\n",
            "Epoch 4/55\n",
            "7/7 [==============================] - 0s 42ms/step - loss: 0.5903 - accuracy: 0.7635 - val_loss: 0.9985 - val_accuracy: 0.0000e+00\n",
            "Epoch 5/55\n",
            "7/7 [==============================] - 0s 40ms/step - loss: 0.5887 - accuracy: 0.7635 - val_loss: 1.0059 - val_accuracy: 0.0000e+00\n",
            "Epoch 6/55\n",
            "7/7 [==============================] - 0s 42ms/step - loss: 0.5871 - accuracy: 0.7635 - val_loss: 1.0124 - val_accuracy: 0.0000e+00\n",
            "Epoch 7/55\n",
            "7/7 [==============================] - 0s 43ms/step - loss: 0.5858 - accuracy: 0.7635 - val_loss: 1.0198 - val_accuracy: 0.0000e+00\n",
            "Epoch 8/55\n",
            "7/7 [==============================] - 0s 40ms/step - loss: 0.5844 - accuracy: 0.7635 - val_loss: 1.0271 - val_accuracy: 0.0000e+00\n",
            "Epoch 9/55\n",
            "7/7 [==============================] - 0s 41ms/step - loss: 0.5829 - accuracy: 0.7635 - val_loss: 1.0347 - val_accuracy: 0.0000e+00\n",
            "Epoch 10/55\n",
            "7/7 [==============================] - 0s 40ms/step - loss: 0.5814 - accuracy: 0.7635 - val_loss: 1.0420 - val_accuracy: 0.0000e+00\n",
            "Epoch 11/55\n",
            "7/7 [==============================] - 0s 39ms/step - loss: 0.5802 - accuracy: 0.7635 - val_loss: 1.0500 - val_accuracy: 0.0000e+00\n",
            "Epoch 12/55\n",
            "7/7 [==============================] - 0s 39ms/step - loss: 0.5788 - accuracy: 0.7635 - val_loss: 1.0571 - val_accuracy: 0.0000e+00\n",
            "Epoch 13/55\n",
            "7/7 [==============================] - 0s 41ms/step - loss: 0.5775 - accuracy: 0.7635 - val_loss: 1.0644 - val_accuracy: 0.0000e+00\n",
            "Epoch 14/55\n",
            "7/7 [==============================] - 0s 42ms/step - loss: 0.5763 - accuracy: 0.7635 - val_loss: 1.0717 - val_accuracy: 0.0000e+00\n",
            "Epoch 15/55\n",
            "7/7 [==============================] - 0s 40ms/step - loss: 0.5751 - accuracy: 0.7635 - val_loss: 1.0792 - val_accuracy: 0.0000e+00\n",
            "Epoch 16/55\n",
            "7/7 [==============================] - 0s 43ms/step - loss: 0.5738 - accuracy: 0.7635 - val_loss: 1.0865 - val_accuracy: 0.0000e+00\n",
            "Epoch 17/55\n",
            "7/7 [==============================] - 0s 41ms/step - loss: 0.5727 - accuracy: 0.7635 - val_loss: 1.0939 - val_accuracy: 0.0000e+00\n",
            "Epoch 18/55\n",
            "7/7 [==============================] - 0s 36ms/step - loss: 0.5717 - accuracy: 0.7635 - val_loss: 1.1015 - val_accuracy: 0.0000e+00\n",
            "Epoch 19/55\n",
            "7/7 [==============================] - 0s 37ms/step - loss: 0.5705 - accuracy: 0.7635 - val_loss: 1.1083 - val_accuracy: 0.0000e+00\n",
            "Epoch 20/55\n",
            "7/7 [==============================] - 0s 36ms/step - loss: 0.5696 - accuracy: 0.7635 - val_loss: 1.1154 - val_accuracy: 0.0000e+00\n",
            "Epoch 21/55\n",
            "7/7 [==============================] - 0s 36ms/step - loss: 0.5686 - accuracy: 0.7635 - val_loss: 1.1219 - val_accuracy: 0.0000e+00\n",
            "Epoch 22/55\n",
            "7/7 [==============================] - 0s 36ms/step - loss: 0.5677 - accuracy: 0.7635 - val_loss: 1.1287 - val_accuracy: 0.0000e+00\n",
            "Epoch 23/55\n",
            "7/7 [==============================] - 0s 37ms/step - loss: 0.5668 - accuracy: 0.7635 - val_loss: 1.1347 - val_accuracy: 0.0000e+00\n",
            "Epoch 24/55\n",
            "7/7 [==============================] - 0s 37ms/step - loss: 0.5662 - accuracy: 0.7635 - val_loss: 1.1404 - val_accuracy: 0.0000e+00\n",
            "Epoch 25/55\n",
            "7/7 [==============================] - 0s 37ms/step - loss: 0.5655 - accuracy: 0.7635 - val_loss: 1.1458 - val_accuracy: 0.0000e+00\n",
            "Epoch 26/55\n",
            "7/7 [==============================] - 0s 38ms/step - loss: 0.5647 - accuracy: 0.7635 - val_loss: 1.1513 - val_accuracy: 0.0000e+00\n",
            "Epoch 27/55\n",
            "7/7 [==============================] - 0s 37ms/step - loss: 0.5641 - accuracy: 0.7635 - val_loss: 1.1568 - val_accuracy: 0.0000e+00\n",
            "Epoch 28/55\n",
            "7/7 [==============================] - 0s 37ms/step - loss: 0.5633 - accuracy: 0.7635 - val_loss: 1.1622 - val_accuracy: 0.0000e+00\n",
            "Epoch 29/55\n",
            "7/7 [==============================] - 0s 36ms/step - loss: 0.5627 - accuracy: 0.7635 - val_loss: 1.1680 - val_accuracy: 0.0000e+00\n",
            "Epoch 30/55\n",
            "7/7 [==============================] - 0s 36ms/step - loss: 0.5620 - accuracy: 0.7635 - val_loss: 1.1742 - val_accuracy: 0.0000e+00\n",
            "Epoch 31/55\n",
            "7/7 [==============================] - 0s 36ms/step - loss: 0.5613 - accuracy: 0.7635 - val_loss: 1.1802 - val_accuracy: 0.0000e+00\n",
            "Epoch 32/55\n",
            "7/7 [==============================] - 0s 37ms/step - loss: 0.5608 - accuracy: 0.7635 - val_loss: 1.1855 - val_accuracy: 0.0000e+00\n",
            "Epoch 33/55\n",
            "7/7 [==============================] - 0s 35ms/step - loss: 0.5602 - accuracy: 0.7635 - val_loss: 1.1913 - val_accuracy: 0.0000e+00\n",
            "Epoch 34/55\n",
            "7/7 [==============================] - 0s 36ms/step - loss: 0.5596 - accuracy: 0.7635 - val_loss: 1.1972 - val_accuracy: 0.0000e+00\n",
            "Epoch 35/55\n",
            "7/7 [==============================] - 0s 36ms/step - loss: 0.5590 - accuracy: 0.7635 - val_loss: 1.2033 - val_accuracy: 0.0000e+00\n",
            "Epoch 36/55\n",
            "7/7 [==============================] - 0s 36ms/step - loss: 0.5585 - accuracy: 0.7635 - val_loss: 1.2094 - val_accuracy: 0.0000e+00\n",
            "Epoch 37/55\n",
            "7/7 [==============================] - 0s 37ms/step - loss: 0.5579 - accuracy: 0.7635 - val_loss: 1.2143 - val_accuracy: 0.0000e+00\n",
            "Epoch 38/55\n",
            "7/7 [==============================] - 0s 36ms/step - loss: 0.5574 - accuracy: 0.7635 - val_loss: 1.2194 - val_accuracy: 0.0000e+00\n",
            "Epoch 39/55\n",
            "7/7 [==============================] - 0s 37ms/step - loss: 0.5570 - accuracy: 0.7635 - val_loss: 1.2244 - val_accuracy: 0.0000e+00\n",
            "Epoch 40/55\n",
            "7/7 [==============================] - 0s 37ms/step - loss: 0.5565 - accuracy: 0.7635 - val_loss: 1.2295 - val_accuracy: 0.0000e+00\n",
            "Epoch 41/55\n",
            "7/7 [==============================] - 0s 36ms/step - loss: 0.5561 - accuracy: 0.7635 - val_loss: 1.2349 - val_accuracy: 0.0000e+00\n",
            "Epoch 42/55\n",
            "7/7 [==============================] - 0s 36ms/step - loss: 0.5556 - accuracy: 0.7635 - val_loss: 1.2402 - val_accuracy: 0.0000e+00\n",
            "Epoch 43/55\n",
            "7/7 [==============================] - 0s 37ms/step - loss: 0.5553 - accuracy: 0.7635 - val_loss: 1.2452 - val_accuracy: 0.0000e+00\n",
            "Epoch 44/55\n",
            "7/7 [==============================] - 0s 36ms/step - loss: 0.5549 - accuracy: 0.7635 - val_loss: 1.2503 - val_accuracy: 0.0000e+00\n",
            "Epoch 45/55\n",
            "7/7 [==============================] - 0s 38ms/step - loss: 0.5544 - accuracy: 0.7635 - val_loss: 1.2543 - val_accuracy: 0.0000e+00\n",
            "Epoch 46/55\n",
            "7/7 [==============================] - 0s 36ms/step - loss: 0.5541 - accuracy: 0.7635 - val_loss: 1.2586 - val_accuracy: 0.0000e+00\n",
            "Epoch 47/55\n",
            "7/7 [==============================] - 0s 37ms/step - loss: 0.5540 - accuracy: 0.7635 - val_loss: 1.2643 - val_accuracy: 0.0000e+00\n",
            "Epoch 48/55\n",
            "7/7 [==============================] - 0s 41ms/step - loss: 0.5534 - accuracy: 0.7635 - val_loss: 1.2686 - val_accuracy: 0.0000e+00\n",
            "Epoch 49/55\n",
            "7/7 [==============================] - 0s 38ms/step - loss: 0.5531 - accuracy: 0.7635 - val_loss: 1.2732 - val_accuracy: 0.0000e+00\n",
            "Epoch 50/55\n",
            "7/7 [==============================] - 0s 63ms/step - loss: 0.5529 - accuracy: 0.7635 - val_loss: 1.2781 - val_accuracy: 0.0000e+00\n",
            "Epoch 51/55\n",
            "7/7 [==============================] - 0s 37ms/step - loss: 0.5525 - accuracy: 0.7635 - val_loss: 1.2832 - val_accuracy: 0.0000e+00\n",
            "Epoch 52/55\n",
            "7/7 [==============================] - 0s 51ms/step - loss: 0.5523 - accuracy: 0.7635 - val_loss: 1.2884 - val_accuracy: 0.0000e+00\n",
            "Epoch 53/55\n",
            "7/7 [==============================] - 0s 47ms/step - loss: 0.5519 - accuracy: 0.7635 - val_loss: 1.2926 - val_accuracy: 0.0000e+00\n",
            "Epoch 54/55\n",
            "7/7 [==============================] - 0s 39ms/step - loss: 0.5517 - accuracy: 0.7635 - val_loss: 1.2954 - val_accuracy: 0.0000e+00\n",
            "Epoch 55/55\n",
            "7/7 [==============================] - 0s 46ms/step - loss: 0.5515 - accuracy: 0.7635 - val_loss: 1.2986 - val_accuracy: 0.0000e+00\n"
          ]
        }
      ]
    },
    {
      "cell_type": "code",
      "source": [
        "result = combined_model.evaluate(norm_data, labels, verbose=0)"
      ],
      "metadata": {
        "id": "d4H_4DDOkz7I"
      },
      "execution_count": null,
      "outputs": []
    },
    {
      "cell_type": "code",
      "source": [
        "print(f\"Accuracy on Evaluation of the CNN and Logistic Regression Model: {result[1]*100:.2f}%\\nLoss: {result[0]:.4f}\")"
      ],
      "metadata": {
        "colab": {
          "base_uri": "https://localhost:8080/"
        },
        "id": "hJqUQrnqk0I3",
        "outputId": "d194e309-7b5b-4a9e-c2ed-30a5eb514724"
      },
      "execution_count": null,
      "outputs": [
        {
          "output_type": "stream",
          "name": "stdout",
          "text": [
            "Accuracy on Evaluation of the CNN and Logistic Regression Model: 61.02%\n",
            "Loss: 0.7014\n"
          ]
        }
      ]
    },
    {
      "cell_type": "code",
      "source": [
        "# Get predictions\n",
        "predictions = model.predict(norm_data)\n",
        "y_pred = np.round(predictions).flatten().astype(int)\n",
        "\n",
        "\n",
        "# Compute confusion matrix\n",
        "cm = confusion_matrix(labels, y_pred)\n",
        "\n",
        "# Print confusion matrix\n",
        "print(\"Confusion Matrix:\")\n",
        "print(cm)\n",
        "\n"
      ],
      "metadata": {
        "id": "6sMUYBGZluHW",
        "colab": {
          "base_uri": "https://localhost:8080/"
        },
        "outputId": "bdb720de-83ca-4788-99fd-5ea3ecc13998"
      },
      "execution_count": null,
      "outputs": [
        {
          "output_type": "stream",
          "name": "stdout",
          "text": [
            "8/8 [==============================] - 0s 5ms/step\n",
            "Confusion Matrix:\n",
            "[[  0 155   0]\n",
            " [  0  98   0]\n",
            " [  0   1   0]]\n"
          ]
        }
      ]
    },
    {
      "cell_type": "markdown",
      "source": [
        "This the CNN only layer of the model"
      ],
      "metadata": {
        "id": "GzZBC8eMlqK0"
      }
    },
    {
      "cell_type": "code",
      "source": [
        "model.compile(loss = tf.keras.losses.BinaryCrossentropy(),\n",
        "              # optimizer = tf.keras.optimizers.Adam(),\n",
        "                metrics = [\"accuracy\"])"
      ],
      "metadata": {
        "id": "IV2h1FXwd4M2"
      },
      "execution_count": null,
      "outputs": []
    },
    {
      "cell_type": "code",
      "source": [
        "# history = model.fit(norm_data, labels, epochs = 50, validation_split = 0.20)"
      ],
      "metadata": {
        "id": "DDuZuExue6-O"
      },
      "execution_count": null,
      "outputs": []
    },
    {
      "cell_type": "code",
      "source": [
        "# result = model.evaluate(norm_data, labels, verbose=0)\n",
        "print(f\"Accuracy on Evaluation of the CNN only model: {result[1]*100:.2f}%\\nLoss: {result[0]:.4f}\")"
      ],
      "metadata": {
        "id": "5rKL6fmHd4On",
        "colab": {
          "base_uri": "https://localhost:8080/"
        },
        "outputId": "244f05b0-9714-441a-9e25-6a672d8c4218"
      },
      "execution_count": null,
      "outputs": [
        {
          "output_type": "stream",
          "name": "stdout",
          "text": [
            "Accuracy on Evaluation of the CNN only model: 61.02%\n",
            "Loss: 0.7014\n"
          ]
        }
      ]
    },
    {
      "cell_type": "code",
      "source": [
        "\n",
        "\n",
        "# # Get predictions\n",
        "# predictions = model.predict(norm_data)\n",
        "# y_pred = np.round(predictions).flatten().astype(int)\n",
        "\n",
        "# # Compute confusion matrix\n",
        "# cm = confusion_matrix(labels, y_pred)\n",
        "\n",
        "# # Print confusion matrix\n",
        "# print(\"Confusion Matrix:\")\n",
        "# print(cm)\n"
      ],
      "metadata": {
        "id": "IWH2YE6ictej"
      },
      "execution_count": null,
      "outputs": []
    },
    {
      "cell_type": "code",
      "source": [],
      "metadata": {
        "id": "efZXcNeQd4bq"
      },
      "execution_count": null,
      "outputs": []
    }
  ]
}