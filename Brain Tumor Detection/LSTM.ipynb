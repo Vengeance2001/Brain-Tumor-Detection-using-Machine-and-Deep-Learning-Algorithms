{
  "nbformat": 4,
  "nbformat_minor": 0,
  "metadata": {
    "colab": {
      "provenance": [],
      "gpuType": "T4"
    },
    "kernelspec": {
      "name": "python3",
      "display_name": "Python 3"
    },
    "language_info": {
      "name": "python"
    },
    "accelerator": "GPU"
  },
  "cells": [
    {
      "cell_type": "code",
      "execution_count": null,
      "metadata": {
        "id": "E6NbPUjaicWK"
      },
      "outputs": [],
      "source": [
        "# LSTM MODEL\n"
      ]
    },
    {
      "cell_type": "code",
      "source": [
        "import os\n",
        "import numpy as np\n",
        "import tensorflow as tf\n",
        "from tensorflow.keras.models import Sequential\n",
        "from tensorflow.keras.layers import LSTM, Dense, Flatten\n",
        "from tensorflow.keras.preprocessing.image import load_img, img_to_array\n",
        "from sklearn.model_selection import train_test_split\n",
        "from sklearn.metrics import confusion_matrix\n",
        "\n",
        "import matplotlib.pyplot as plt"
      ],
      "metadata": {
        "id": "1WAgDIxPkZIr"
      },
      "execution_count": null,
      "outputs": []
    },
    {
      "cell_type": "code",
      "source": [
        "# Set random seed for reproducibility\n",
        "np.random.seed(42)\n",
        "tf.random.set_seed(42)"
      ],
      "metadata": {
        "id": "o7VU6G2rkZLF"
      },
      "execution_count": null,
      "outputs": []
    },
    {
      "cell_type": "code",
      "source": [
        "# Set the path to the dataset directory\n",
        "data_dir = '/content/drive/MyDrive/archive (2)/brain_tumor_dataset'"
      ],
      "metadata": {
        "id": "422uejHzkZNs"
      },
      "execution_count": null,
      "outputs": []
    },
    {
      "cell_type": "code",
      "source": [
        "# Define the label mapping\n",
        "label_mapping = {'no': 0, 'yes': 1}"
      ],
      "metadata": {
        "id": "ZqVCf7SnkZQG"
      },
      "execution_count": null,
      "outputs": []
    },
    {
      "cell_type": "code",
      "source": [
        "# Load the dataset\n",
        "images = []\n",
        "labels = []\n",
        "for folder in os.listdir(data_dir):\n",
        "    folder_path = os.path.join(data_dir, folder)\n",
        "    if os.path.isdir(folder_path):\n",
        "        label = label_mapping.get(folder)\n",
        "        if label is not None:\n",
        "            for file_name in os.listdir(folder_path):\n",
        "                if file_name.endswith(\".jpg\"):\n",
        "                    file_path = os.path.join(folder_path, file_name)\n",
        "                    image = load_img(file_path, color_mode=\"grayscale\", target_size=(64, 64))\n",
        "                    image_array = img_to_array(image)\n",
        "                    images.append(image_array)\n",
        "                    labels.append(label)"
      ],
      "metadata": {
        "id": "x2qh0035kZSg"
      },
      "execution_count": null,
      "outputs": []
    },
    {
      "cell_type": "code",
      "source": [
        "images = np.array(images)\n",
        "labels = np.array(labels)"
      ],
      "metadata": {
        "id": "wNbUzEIDkZU_"
      },
      "execution_count": null,
      "outputs": []
    },
    {
      "cell_type": "code",
      "source": [
        "# Split the data into training and testing sets\n",
        "X_train, X_test, y_train, y_test = train_test_split(images, labels, test_size=0.2, random_state=42)"
      ],
      "metadata": {
        "id": "BiwnrX36kZXo"
      },
      "execution_count": null,
      "outputs": []
    },
    {
      "cell_type": "code",
      "source": [
        "X_train = X_train / 255.0\n",
        "X_test = X_test / 255.0"
      ],
      "metadata": {
        "id": "1Tuaqr7RkZaS"
      },
      "execution_count": null,
      "outputs": []
    },
    {
      "cell_type": "code",
      "source": [
        "num_timesteps = X_train.shape[1]\n",
        "height = X_train.shape[2]\n",
        "width = X_train.shape[3]\n",
        "input_dim = 1  # Single channel for grayscale images"
      ],
      "metadata": {
        "id": "2extfTEXkZci"
      },
      "execution_count": null,
      "outputs": []
    },
    {
      "cell_type": "code",
      "source": [
        "X_train = X_train.reshape(-1, num_timesteps, height * width)\n",
        "X_test = X_test.reshape(-1, num_timesteps, height * width)"
      ],
      "metadata": {
        "id": "hPdqRb1qkZev"
      },
      "execution_count": null,
      "outputs": []
    },
    {
      "cell_type": "code",
      "source": [
        "# Define the architecture of the LSTM model\n",
        "model = Sequential()\n",
        "model.add(LSTM(64, input_shape=(num_timesteps, height * width)))\n",
        "model.add(Dense(1, activation='sigmoid'))\n"
      ],
      "metadata": {
        "id": "8bq8I_RZkZhV"
      },
      "execution_count": null,
      "outputs": []
    },
    {
      "cell_type": "code",
      "source": [
        "# Compile the model\n",
        "model.compile(optimizer='adam', loss='binary_crossentropy', metrics=['accuracy'])"
      ],
      "metadata": {
        "id": "N9FZPByGkZjg"
      },
      "execution_count": null,
      "outputs": []
    },
    {
      "cell_type": "code",
      "source": [
        "# Train the model\n",
        "model.fit(X_train, y_train, epochs=50, batch_size=32, validation_data=(X_test, y_test))"
      ],
      "metadata": {
        "colab": {
          "base_uri": "https://localhost:8080/"
        },
        "id": "3TW-xBg7kZmN",
        "outputId": "41355863-ec76-4d5c-f060-3a5e47630428"
      },
      "execution_count": null,
      "outputs": [
        {
          "output_type": "stream",
          "name": "stdout",
          "text": [
            "Epoch 1/50\n",
            "5/5 [==============================] - 8s 138ms/step - loss: 0.6869 - accuracy: 0.5735 - val_loss: 0.6529 - val_accuracy: 0.6857\n",
            "Epoch 2/50\n",
            "5/5 [==============================] - 0s 15ms/step - loss: 0.6702 - accuracy: 0.6250 - val_loss: 0.6198 - val_accuracy: 0.6571\n",
            "Epoch 3/50\n",
            "5/5 [==============================] - 0s 14ms/step - loss: 0.6515 - accuracy: 0.6838 - val_loss: 0.5901 - val_accuracy: 0.7714\n",
            "Epoch 4/50\n",
            "5/5 [==============================] - 0s 14ms/step - loss: 0.6284 - accuracy: 0.6985 - val_loss: 0.5332 - val_accuracy: 0.7714\n",
            "Epoch 5/50\n",
            "5/5 [==============================] - 0s 15ms/step - loss: 0.5990 - accuracy: 0.7279 - val_loss: 0.4939 - val_accuracy: 0.7429\n",
            "Epoch 6/50\n",
            "5/5 [==============================] - 0s 17ms/step - loss: 0.5735 - accuracy: 0.7206 - val_loss: 0.4848 - val_accuracy: 0.7429\n",
            "Epoch 7/50\n",
            "5/5 [==============================] - 0s 14ms/step - loss: 0.5613 - accuracy: 0.7279 - val_loss: 0.4954 - val_accuracy: 0.7429\n",
            "Epoch 8/50\n",
            "5/5 [==============================] - 0s 14ms/step - loss: 0.5475 - accuracy: 0.7500 - val_loss: 0.4826 - val_accuracy: 0.8286\n",
            "Epoch 9/50\n",
            "5/5 [==============================] - 0s 14ms/step - loss: 0.5309 - accuracy: 0.7279 - val_loss: 0.4612 - val_accuracy: 0.7714\n",
            "Epoch 10/50\n",
            "5/5 [==============================] - 0s 16ms/step - loss: 0.5270 - accuracy: 0.7574 - val_loss: 0.4333 - val_accuracy: 0.8000\n",
            "Epoch 11/50\n",
            "5/5 [==============================] - 0s 14ms/step - loss: 0.4854 - accuracy: 0.7647 - val_loss: 0.4434 - val_accuracy: 0.7714\n",
            "Epoch 12/50\n",
            "5/5 [==============================] - 0s 14ms/step - loss: 0.5126 - accuracy: 0.7206 - val_loss: 0.4633 - val_accuracy: 0.7429\n",
            "Epoch 13/50\n",
            "5/5 [==============================] - 0s 15ms/step - loss: 0.4332 - accuracy: 0.7574 - val_loss: 0.4656 - val_accuracy: 0.8000\n",
            "Epoch 14/50\n",
            "5/5 [==============================] - 0s 17ms/step - loss: 0.4239 - accuracy: 0.8015 - val_loss: 0.4771 - val_accuracy: 0.7429\n",
            "Epoch 15/50\n",
            "5/5 [==============================] - 0s 16ms/step - loss: 0.3986 - accuracy: 0.8456 - val_loss: 0.6074 - val_accuracy: 0.6571\n",
            "Epoch 16/50\n",
            "5/5 [==============================] - 0s 14ms/step - loss: 0.3697 - accuracy: 0.8456 - val_loss: 0.6213 - val_accuracy: 0.7143\n",
            "Epoch 17/50\n",
            "5/5 [==============================] - 0s 17ms/step - loss: 0.3986 - accuracy: 0.8382 - val_loss: 0.6127 - val_accuracy: 0.6571\n",
            "Epoch 18/50\n",
            "5/5 [==============================] - 0s 14ms/step - loss: 0.3971 - accuracy: 0.8456 - val_loss: 0.4697 - val_accuracy: 0.8000\n",
            "Epoch 19/50\n",
            "5/5 [==============================] - 0s 17ms/step - loss: 0.3699 - accuracy: 0.8382 - val_loss: 0.5234 - val_accuracy: 0.7429\n",
            "Epoch 20/50\n",
            "5/5 [==============================] - 0s 17ms/step - loss: 0.3494 - accuracy: 0.8529 - val_loss: 0.5578 - val_accuracy: 0.7143\n",
            "Epoch 21/50\n",
            "5/5 [==============================] - 0s 14ms/step - loss: 0.3145 - accuracy: 0.8382 - val_loss: 0.5348 - val_accuracy: 0.7143\n",
            "Epoch 22/50\n",
            "5/5 [==============================] - 0s 18ms/step - loss: 0.3129 - accuracy: 0.8603 - val_loss: 0.6570 - val_accuracy: 0.7429\n",
            "Epoch 23/50\n",
            "5/5 [==============================] - 0s 18ms/step - loss: 0.3119 - accuracy: 0.8750 - val_loss: 0.7893 - val_accuracy: 0.6286\n",
            "Epoch 24/50\n",
            "5/5 [==============================] - 0s 17ms/step - loss: 0.2636 - accuracy: 0.9118 - val_loss: 0.5744 - val_accuracy: 0.7429\n",
            "Epoch 25/50\n",
            "5/5 [==============================] - 0s 14ms/step - loss: 0.2815 - accuracy: 0.8897 - val_loss: 0.6966 - val_accuracy: 0.7143\n",
            "Epoch 26/50\n",
            "5/5 [==============================] - 0s 14ms/step - loss: 0.2224 - accuracy: 0.9338 - val_loss: 0.7607 - val_accuracy: 0.6571\n",
            "Epoch 27/50\n",
            "5/5 [==============================] - 0s 14ms/step - loss: 0.1936 - accuracy: 0.9485 - val_loss: 0.7532 - val_accuracy: 0.6286\n",
            "Epoch 28/50\n",
            "5/5 [==============================] - 0s 16ms/step - loss: 0.1485 - accuracy: 0.9559 - val_loss: 0.8453 - val_accuracy: 0.6857\n",
            "Epoch 29/50\n",
            "5/5 [==============================] - 0s 14ms/step - loss: 0.1198 - accuracy: 0.9779 - val_loss: 0.8374 - val_accuracy: 0.6857\n",
            "Epoch 30/50\n",
            "5/5 [==============================] - 0s 14ms/step - loss: 0.1174 - accuracy: 0.9485 - val_loss: 0.8929 - val_accuracy: 0.7143\n",
            "Epoch 31/50\n",
            "5/5 [==============================] - 0s 17ms/step - loss: 0.0845 - accuracy: 0.9779 - val_loss: 0.9292 - val_accuracy: 0.6857\n",
            "Epoch 32/50\n",
            "5/5 [==============================] - 0s 17ms/step - loss: 0.1753 - accuracy: 0.9265 - val_loss: 1.1449 - val_accuracy: 0.6286\n",
            "Epoch 33/50\n",
            "5/5 [==============================] - 0s 14ms/step - loss: 0.7634 - accuracy: 0.7132 - val_loss: 0.7363 - val_accuracy: 0.7143\n",
            "Epoch 34/50\n",
            "5/5 [==============================] - 0s 14ms/step - loss: 0.4608 - accuracy: 0.7721 - val_loss: 0.5744 - val_accuracy: 0.7429\n",
            "Epoch 35/50\n",
            "5/5 [==============================] - 0s 17ms/step - loss: 0.3896 - accuracy: 0.8235 - val_loss: 0.6523 - val_accuracy: 0.6857\n",
            "Epoch 36/50\n",
            "5/5 [==============================] - 0s 14ms/step - loss: 0.3725 - accuracy: 0.8382 - val_loss: 0.5781 - val_accuracy: 0.7429\n",
            "Epoch 37/50\n",
            "5/5 [==============================] - 0s 19ms/step - loss: 0.3478 - accuracy: 0.8529 - val_loss: 0.6747 - val_accuracy: 0.7143\n",
            "Epoch 38/50\n",
            "5/5 [==============================] - 0s 14ms/step - loss: 0.2818 - accuracy: 0.8750 - val_loss: 0.7246 - val_accuracy: 0.7143\n",
            "Epoch 39/50\n",
            "5/5 [==============================] - 0s 14ms/step - loss: 0.2531 - accuracy: 0.8897 - val_loss: 0.7267 - val_accuracy: 0.7143\n",
            "Epoch 40/50\n",
            "5/5 [==============================] - 0s 15ms/step - loss: 0.2137 - accuracy: 0.9191 - val_loss: 0.8146 - val_accuracy: 0.7143\n",
            "Epoch 41/50\n",
            "5/5 [==============================] - 0s 19ms/step - loss: 0.2023 - accuracy: 0.9118 - val_loss: 0.8447 - val_accuracy: 0.6857\n",
            "Epoch 42/50\n",
            "5/5 [==============================] - 0s 17ms/step - loss: 0.1476 - accuracy: 0.9632 - val_loss: 0.8908 - val_accuracy: 0.6571\n",
            "Epoch 43/50\n",
            "5/5 [==============================] - 0s 14ms/step - loss: 0.1161 - accuracy: 0.9706 - val_loss: 1.0569 - val_accuracy: 0.6571\n",
            "Epoch 44/50\n",
            "5/5 [==============================] - 0s 15ms/step - loss: 0.2324 - accuracy: 0.9191 - val_loss: 0.9132 - val_accuracy: 0.6857\n",
            "Epoch 45/50\n",
            "5/5 [==============================] - 0s 18ms/step - loss: 0.1914 - accuracy: 0.9338 - val_loss: 0.9192 - val_accuracy: 0.6857\n",
            "Epoch 46/50\n",
            "5/5 [==============================] - 0s 15ms/step - loss: 0.2656 - accuracy: 0.9044 - val_loss: 0.9062 - val_accuracy: 0.6857\n",
            "Epoch 47/50\n",
            "5/5 [==============================] - 0s 15ms/step - loss: 0.0924 - accuracy: 0.9779 - val_loss: 0.8405 - val_accuracy: 0.6857\n",
            "Epoch 48/50\n",
            "5/5 [==============================] - 0s 14ms/step - loss: 0.0893 - accuracy: 0.9926 - val_loss: 0.9446 - val_accuracy: 0.6571\n",
            "Epoch 49/50\n",
            "5/5 [==============================] - 0s 14ms/step - loss: 0.0771 - accuracy: 0.9926 - val_loss: 1.0610 - val_accuracy: 0.6571\n",
            "Epoch 50/50\n",
            "5/5 [==============================] - 0s 18ms/step - loss: 0.0595 - accuracy: 0.9926 - val_loss: 0.9333 - val_accuracy: 0.6571\n"
          ]
        },
        {
          "output_type": "execute_result",
          "data": {
            "text/plain": [
              "<keras.callbacks.History at 0x7fe01876a3e0>"
            ]
          },
          "metadata": {},
          "execution_count": 14
        }
      ]
    },
    {
      "cell_type": "code",
      "source": [
        "# Evaluate the model\n",
        "loss, accuracy = model.evaluate(X_test, y_test)\n",
        "print(\"Test Loss:\", loss)\n",
        "print(\"Test Accuracy:\", accuracy)"
      ],
      "metadata": {
        "colab": {
          "base_uri": "https://localhost:8080/"
        },
        "id": "8rLmuj_dkZpo",
        "outputId": "65fd3ce4-e2ec-4adf-a819-2eabdb8a81d4"
      },
      "execution_count": null,
      "outputs": [
        {
          "output_type": "stream",
          "name": "stdout",
          "text": [
            "2/2 [==============================] - 0s 7ms/step - loss: 0.9333 - accuracy: 0.6571\n",
            "Test Loss: 0.9333168864250183\n",
            "Test Accuracy: 0.6571428775787354\n"
          ]
        }
      ]
    },
    {
      "cell_type": "code",
      "source": [
        "y_pred = model.predict(X_test)\n",
        "y_pred = np.round(y_pred).astype(int)\n",
        "y_pred = np.squeeze(y_pred)\n",
        "\n",
        "# Compute confusion matrix\n",
        "cm = confusion_matrix(y_test, y_pred)\n",
        "\n",
        "# Print confusion matrix\n",
        "print(\"Confusion Matrix:\")\n",
        "print(cm)\n",
        "\n",
        "# Plot confusion matrix\n",
        "plt.imshow(cm, interpolation='nearest', cmap=plt.cm.Blues)\n",
        "plt.colorbar()\n",
        "tick_marks = np.arange(len(label_mapping))\n",
        "plt.xticks(tick_marks, label_mapping.keys())\n",
        "plt.yticks(tick_marks, label_mapping.keys())\n",
        "plt.xlabel('Predicted Label')\n",
        "plt.ylabel('True Label')\n",
        "plt.title('Confusion Matrix')\n",
        "plt.show()"
      ],
      "metadata": {
        "colab": {
          "base_uri": "https://localhost:8080/",
          "height": 541
        },
        "id": "5Jim2g0deKeD",
        "outputId": "994bce2d-2b13-42d2-ae84-3fa933a2fe51"
      },
      "execution_count": null,
      "outputs": [
        {
          "output_type": "stream",
          "name": "stdout",
          "text": [
            "2/2 [==============================] - 0s 18ms/step\n",
            "Confusion Matrix:\n",
            "[[11  6]\n",
            " [ 6 12]]\n"
          ]
        },
        {
          "output_type": "display_data",
          "data": {
            "text/plain": [
              "<Figure size 640x480 with 2 Axes>"
            ],
            "image/png": "[encoded data removed]"
          },
          "metadata": {}
        }
      ]
    }
  ]
}