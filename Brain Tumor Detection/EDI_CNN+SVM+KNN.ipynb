{
  "cells": [
    {
      "cell_type": "code",
      "execution_count": null,
      "metadata": {
        "id": "MeRW0n_upxGi"
      },
      "outputs": [],
      "source": [
        "import pandas as pd\n",
        "import numpy as np\n",
        "import cv2\n",
        "import os\n",
        "from sklearn.svm import SVC\n",
        "from sklearn.model_selection import train_test_split\n",
        "from sklearn.metrics import classification_report, confusion_matrix\n",
        "from sklearn.neighbors import KNeighborsClassifier\n",
        "import tensorflow as tf\n",
        "os.environ['TF_CPP_MIN_LOG_LEVEL'] = '3'\n",
        "\n",
        "import os"
      ]
    },
    {
      "cell_type": "code",
      "source": [
        "import warnings\n",
        "warnings.filterwarnings('ignore')"
      ],
      "metadata": {
        "id": "YAIwgQYN_KaW"
      },
      "execution_count": null,
      "outputs": []
    },
    {
      "cell_type": "code",
      "execution_count": null,
      "metadata": {
        "id": "Dj2cLyI7p2yg"
      },
      "outputs": [],
      "source": [
        "dataset_path = '/content/drive/MyDrive/archive (2)/brain_tumor_dataset'"
      ]
    },
    {
      "cell_type": "code",
      "execution_count": null,
      "metadata": {
        "colab": {
          "base_uri": "https://localhost:8080/"
        },
        "id": "jISfzt2mp20i",
        "outputId": "b2364af1-2724-45b3-ba51-ef0198e3d29e"
      },
      "outputs": [
        {
          "output_type": "stream",
          "name": "stdout",
          "text": [
            "['yes', 'no', 'test']\n"
          ]
        }
      ],
      "source": [
        "folders = os.listdir(dataset_path)\n",
        "print(folders)"
      ]
    },
    {
      "cell_type": "code",
      "execution_count": null,
      "metadata": {
        "colab": {
          "base_uri": "https://localhost:8080/"
        },
        "id": "uDfNwnbNp23z",
        "outputId": "8f2f8f44-4a4a-4b06-fa79-8b240b6932db"
      },
      "outputs": [
        {
          "output_type": "stream",
          "name": "stdout",
          "text": [
            "yes contains 155 images\n",
            "no contains 98 images\n"
          ]
        }
      ],
      "source": [
        "subdirs = os.listdir(dataset_path)[:2]\n",
        "for subdir in subdirs:\n",
        "    print(f\"{subdir} contains {len(os.listdir(dataset_path+'/'+subdir))} images\")\n"
      ]
    },
    {
      "cell_type": "code",
      "execution_count": null,
      "metadata": {
        "id": "98Eb4u8tp26D"
      },
      "outputs": [],
      "source": [
        "def load_images(folder):\n",
        "    imgs = []\n",
        "    target = 0\n",
        "    labels = []\n",
        "    for i in os.listdir(folder):\n",
        "        subdir = os.path.join(folder, i)\n",
        "        for j in os.listdir(subdir):\n",
        "            img_dir = os.path.join(subdir,j)\n",
        "            try:\n",
        "                img = cv2.imread(img_dir)\n",
        "                img = cv2.cvtColor(img, cv2.COLOR_BGR2GRAY)\n",
        "                img = cv2.resize(img, (128,128))\n",
        "                imgs.append(img)\n",
        "                labels.append(target)\n",
        "            except:\n",
        "                continue\n",
        "        target += 1\n",
        "\n",
        "    imgs = np.array(imgs)\n",
        "    labels = np.array(labels)\n",
        "\n",
        "    return imgs, labels"
      ]
    },
    {
      "cell_type": "code",
      "execution_count": null,
      "metadata": {
        "colab": {
          "base_uri": "https://localhost:8080/"
        },
        "id": "r4UptM6bp2-z",
        "outputId": "0f631c2b-0c7c-4d06-9263-604f9d11b9c7"
      },
      "outputs": [
        {
          "output_type": "execute_result",
          "data": {
            "text/plain": [
              "((254, 128, 128), (254,))"
            ]
          },
          "metadata": {},
          "execution_count": 34
        }
      ],
      "source": [
        "data, labels = load_images(dataset_path)\n",
        "data.shape, labels.shape"
      ]
    },
    {
      "cell_type": "code",
      "execution_count": null,
      "metadata": {
        "id": "goFzjBrop3Fh",
        "colab": {
          "base_uri": "https://localhost:8080/"
        },
        "outputId": "52971a5c-4f74-4202-d510-c041e7ac4a24"
      },
      "outputs": [
        {
          "output_type": "execute_result",
          "data": {
            "text/plain": [
              "((254, 128, 128, 1),\n",
              " array([[[0.01176471],\n",
              "         [0.01176471],\n",
              "         [0.01176471],\n",
              "         ...,\n",
              "         [0.00784314],\n",
              "         [0.00784314],\n",
              "         [0.00784314]],\n",
              " \n",
              "        [[0.01176471],\n",
              "         [0.01176471],\n",
              "         [0.01176471],\n",
              "         ...,\n",
              "         [0.00784314],\n",
              "         [0.00784314],\n",
              "         [0.00784314]],\n",
              " \n",
              "        [[0.01176471],\n",
              "         [0.01176471],\n",
              "         [0.01176471],\n",
              "         ...,\n",
              "         [0.00784314],\n",
              "         [0.00784314],\n",
              "         [0.00784314]],\n",
              " \n",
              "        ...,\n",
              " \n",
              "        [[0.00784314],\n",
              "         [0.00784314],\n",
              "         [0.00784314],\n",
              "         ...,\n",
              "         [0.00784314],\n",
              "         [0.00784314],\n",
              "         [0.01176471]],\n",
              " \n",
              "        [[0.00784314],\n",
              "         [0.00784314],\n",
              "         [0.00784314],\n",
              "         ...,\n",
              "         [0.00784314],\n",
              "         [0.00784314],\n",
              "         [0.01176471]],\n",
              " \n",
              "        [[0.00784314],\n",
              "         [0.00784314],\n",
              "         [0.00784314],\n",
              "         ...,\n",
              "         [0.00392157],\n",
              "         [0.00392157],\n",
              "         [0.00784314]]]))"
            ]
          },
          "metadata": {},
          "execution_count": 35
        }
      ],
      "source": [
        "norm_data = data / 255.\n",
        "norm_data = np.expand_dims(norm_data, axis=3)\n",
        "norm_data.shape, norm_data[0]"
      ]
    },
    {
      "cell_type": "code",
      "execution_count": null,
      "metadata": {
        "id": "Z3KBzCqgp3HA"
      },
      "outputs": [],
      "source": [
        "X_train, X_test, y_train, y_test = train_test_split(norm_data, labels, test_size=0.2, random_state=42)\n"
      ]
    },
    {
      "cell_type": "code",
      "execution_count": null,
      "metadata": {
        "id": "G9Aa95Rpp3Iy"
      },
      "outputs": [],
      "source": [
        "tf.random.set_seed(21)\n",
        "model = tf.keras.models.Sequential([\n",
        "    tf.keras.layers.Conv2D(filters=64,\n",
        "                           kernel_size=3,\n",
        "                           activation='relu',\n",
        "                           input_shape=(128,128,1)),\n",
        "    tf.keras.layers.Conv2D(32,3,activation='relu'),\n",
        "    tf.keras.layers.MaxPool2D(pool_size=2,\n",
        "                              padding='valid'),\n",
        "    tf.keras.layers.Conv2D(32,3,activation='relu'),\n",
        "    tf.keras.layers.Conv2D(16,3,activation='relu'),\n",
        "    tf.keras.layers.MaxPool2D(2),\n",
        "    tf.keras.layers.Flatten(),\n",
        "    tf.keras.layers.Dense(1, activation='sigmoid')\n",
        "])"
      ]
    },
    {
      "cell_type": "code",
      "execution_count": null,
      "metadata": {
        "id": "cOXPqq9dp3LS"
      },
      "outputs": [],
      "source": [
        "model.compile(loss = tf.keras.losses.BinaryCrossentropy(),\n",
        "              optimizer = tf.keras.optimizers.Adam(),\n",
        "              metrics = [\"accuracy\"])"
      ]
    },
    {
      "cell_type": "code",
      "execution_count": null,
      "metadata": {
        "id": "3OM-I1Thp3Oi",
        "colab": {
          "base_uri": "https://localhost:8080/"
        },
        "outputId": "c363fca6-5b22-4197-ccbd-1a877247e365"
      },
      "outputs": [
        {
          "output_type": "stream",
          "name": "stdout",
          "text": [
            "Epoch 1/50\n",
            "6/6 [==============================] - 2s 99ms/step - loss: 0.6670 - accuracy: 0.6420 - val_loss: 0.6397 - val_accuracy: 0.5854\n",
            "Epoch 2/50\n",
            "6/6 [==============================] - 0s 37ms/step - loss: 0.6019 - accuracy: 0.6420 - val_loss: 0.6058 - val_accuracy: 0.5854\n",
            "Epoch 3/50\n",
            "6/6 [==============================] - 0s 36ms/step - loss: 0.5797 - accuracy: 0.6914 - val_loss: 0.5353 - val_accuracy: 0.8049\n",
            "Epoch 4/50\n",
            "6/6 [==============================] - 0s 35ms/step - loss: 0.5337 - accuracy: 0.7716 - val_loss: 0.4844 - val_accuracy: 0.8049\n",
            "Epoch 5/50\n",
            "6/6 [==============================] - 0s 35ms/step - loss: 0.5177 - accuracy: 0.7654 - val_loss: 0.4752 - val_accuracy: 0.8537\n",
            "Epoch 6/50\n",
            "6/6 [==============================] - 0s 34ms/step - loss: 0.5148 - accuracy: 0.7716 - val_loss: 0.5265 - val_accuracy: 0.8780\n",
            "Epoch 7/50\n",
            "6/6 [==============================] - 0s 34ms/step - loss: 0.5212 - accuracy: 0.7840 - val_loss: 0.4992 - val_accuracy: 0.8537\n",
            "Epoch 8/50\n",
            "6/6 [==============================] - 0s 36ms/step - loss: 0.4715 - accuracy: 0.8025 - val_loss: 0.4452 - val_accuracy: 0.8537\n",
            "Epoch 9/50\n",
            "6/6 [==============================] - 0s 37ms/step - loss: 0.4728 - accuracy: 0.7716 - val_loss: 0.4810 - val_accuracy: 0.8537\n",
            "Epoch 10/50\n",
            "6/6 [==============================] - 0s 37ms/step - loss: 0.4272 - accuracy: 0.7963 - val_loss: 0.4335 - val_accuracy: 0.8537\n",
            "Epoch 11/50\n",
            "6/6 [==============================] - 0s 36ms/step - loss: 0.3826 - accuracy: 0.8519 - val_loss: 0.4708 - val_accuracy: 0.8537\n",
            "Epoch 12/50\n",
            "6/6 [==============================] - 0s 35ms/step - loss: 0.3439 - accuracy: 0.8765 - val_loss: 0.4496 - val_accuracy: 0.8780\n",
            "Epoch 13/50\n",
            "6/6 [==============================] - 0s 35ms/step - loss: 0.2991 - accuracy: 0.8827 - val_loss: 0.7471 - val_accuracy: 0.6098\n",
            "Epoch 14/50\n",
            "6/6 [==============================] - 0s 35ms/step - loss: 0.5771 - accuracy: 0.6914 - val_loss: 0.4892 - val_accuracy: 0.8780\n",
            "Epoch 15/50\n",
            "6/6 [==============================] - 0s 38ms/step - loss: 0.3545 - accuracy: 0.9012 - val_loss: 0.5353 - val_accuracy: 0.7805\n",
            "Epoch 16/50\n",
            "6/6 [==============================] - 0s 40ms/step - loss: 0.3748 - accuracy: 0.8395 - val_loss: 0.5490 - val_accuracy: 0.8049\n",
            "Epoch 17/50\n",
            "6/6 [==============================] - 0s 38ms/step - loss: 0.2904 - accuracy: 0.9136 - val_loss: 0.4854 - val_accuracy: 0.8537\n",
            "Epoch 18/50\n",
            "6/6 [==============================] - 0s 42ms/step - loss: 0.2089 - accuracy: 0.9568 - val_loss: 0.6370 - val_accuracy: 0.8780\n",
            "Epoch 19/50\n",
            "6/6 [==============================] - 0s 40ms/step - loss: 0.1676 - accuracy: 0.9506 - val_loss: 0.6761 - val_accuracy: 0.8537\n",
            "Epoch 20/50\n",
            "6/6 [==============================] - 0s 38ms/step - loss: 0.1285 - accuracy: 0.9568 - val_loss: 0.9856 - val_accuracy: 0.8537\n",
            "Epoch 21/50\n",
            "6/6 [==============================] - 0s 40ms/step - loss: 0.1584 - accuracy: 0.9506 - val_loss: 0.6252 - val_accuracy: 0.8537\n",
            "Epoch 22/50\n",
            "6/6 [==============================] - 0s 40ms/step - loss: 0.1309 - accuracy: 0.9568 - val_loss: 0.8448 - val_accuracy: 0.8537\n",
            "Epoch 23/50\n",
            "6/6 [==============================] - 0s 40ms/step - loss: 0.1430 - accuracy: 0.9444 - val_loss: 0.6470 - val_accuracy: 0.8293\n",
            "Epoch 24/50\n",
            "6/6 [==============================] - 0s 40ms/step - loss: 0.0987 - accuracy: 0.9753 - val_loss: 0.8916 - val_accuracy: 0.9024\n",
            "Epoch 25/50\n",
            "6/6 [==============================] - 0s 40ms/step - loss: 0.1058 - accuracy: 0.9630 - val_loss: 0.7536 - val_accuracy: 0.9268\n",
            "Epoch 26/50\n",
            "6/6 [==============================] - 0s 43ms/step - loss: 0.0856 - accuracy: 0.9691 - val_loss: 0.8583 - val_accuracy: 0.8780\n",
            "Epoch 27/50\n",
            "6/6 [==============================] - 0s 40ms/step - loss: 0.0543 - accuracy: 0.9877 - val_loss: 0.8988 - val_accuracy: 0.8780\n",
            "Epoch 28/50\n",
            "6/6 [==============================] - 0s 38ms/step - loss: 0.0370 - accuracy: 0.9938 - val_loss: 0.8929 - val_accuracy: 0.9024\n",
            "Epoch 29/50\n",
            "6/6 [==============================] - 0s 38ms/step - loss: 0.0285 - accuracy: 0.9938 - val_loss: 1.0546 - val_accuracy: 0.8780\n",
            "Epoch 30/50\n",
            "6/6 [==============================] - 0s 39ms/step - loss: 0.0274 - accuracy: 0.9938 - val_loss: 1.0708 - val_accuracy: 0.8780\n",
            "Epoch 31/50\n",
            "6/6 [==============================] - 0s 41ms/step - loss: 0.0137 - accuracy: 1.0000 - val_loss: 0.9847 - val_accuracy: 0.9024\n",
            "Epoch 32/50\n",
            "6/6 [==============================] - 0s 36ms/step - loss: 0.0124 - accuracy: 1.0000 - val_loss: 1.2691 - val_accuracy: 0.8780\n",
            "Epoch 33/50\n",
            "6/6 [==============================] - 0s 34ms/step - loss: 0.0119 - accuracy: 0.9938 - val_loss: 1.1993 - val_accuracy: 0.8780\n",
            "Epoch 34/50\n",
            "6/6 [==============================] - 0s 35ms/step - loss: 0.0049 - accuracy: 1.0000 - val_loss: 1.1029 - val_accuracy: 0.9268\n",
            "Epoch 35/50\n",
            "6/6 [==============================] - 0s 38ms/step - loss: 0.0044 - accuracy: 1.0000 - val_loss: 1.2162 - val_accuracy: 0.9024\n",
            "Epoch 36/50\n",
            "6/6 [==============================] - 0s 35ms/step - loss: 0.0029 - accuracy: 1.0000 - val_loss: 1.3421 - val_accuracy: 0.8780\n",
            "Epoch 37/50\n",
            "6/6 [==============================] - 0s 35ms/step - loss: 0.0025 - accuracy: 1.0000 - val_loss: 1.3531 - val_accuracy: 0.8780\n",
            "Epoch 38/50\n",
            "6/6 [==============================] - 0s 37ms/step - loss: 0.0019 - accuracy: 1.0000 - val_loss: 1.3235 - val_accuracy: 0.8780\n",
            "Epoch 39/50\n",
            "6/6 [==============================] - 0s 34ms/step - loss: 0.0018 - accuracy: 1.0000 - val_loss: 1.3499 - val_accuracy: 0.8780\n",
            "Epoch 40/50\n",
            "6/6 [==============================] - 0s 34ms/step - loss: 0.0015 - accuracy: 1.0000 - val_loss: 1.4408 - val_accuracy: 0.8780\n",
            "Epoch 41/50\n",
            "6/6 [==============================] - 0s 36ms/step - loss: 0.0013 - accuracy: 1.0000 - val_loss: 1.4606 - val_accuracy: 0.8780\n",
            "Epoch 42/50\n",
            "6/6 [==============================] - 0s 43ms/step - loss: 0.0012 - accuracy: 1.0000 - val_loss: 1.4385 - val_accuracy: 0.8780\n",
            "Epoch 43/50\n",
            "6/6 [==============================] - 0s 42ms/step - loss: 0.0010 - accuracy: 1.0000 - val_loss: 1.4020 - val_accuracy: 0.9024\n",
            "Epoch 44/50\n",
            "6/6 [==============================] - 0s 44ms/step - loss: 0.0010 - accuracy: 1.0000 - val_loss: 1.4270 - val_accuracy: 0.9024\n",
            "Epoch 45/50\n",
            "6/6 [==============================] - 0s 46ms/step - loss: 9.0377e-04 - accuracy: 1.0000 - val_loss: 1.4676 - val_accuracy: 0.9024\n",
            "Epoch 46/50\n",
            "6/6 [==============================] - 0s 48ms/step - loss: 8.5025e-04 - accuracy: 1.0000 - val_loss: 1.5061 - val_accuracy: 0.9024\n",
            "Epoch 47/50\n",
            "6/6 [==============================] - 0s 48ms/step - loss: 7.6833e-04 - accuracy: 1.0000 - val_loss: 1.5228 - val_accuracy: 0.9024\n",
            "Epoch 48/50\n",
            "6/6 [==============================] - 0s 50ms/step - loss: 6.9753e-04 - accuracy: 1.0000 - val_loss: 1.5304 - val_accuracy: 0.9024\n",
            "Epoch 49/50\n",
            "6/6 [==============================] - 0s 46ms/step - loss: 6.4639e-04 - accuracy: 1.0000 - val_loss: 1.5303 - val_accuracy: 0.9024\n",
            "Epoch 50/50\n",
            "6/6 [==============================] - 0s 49ms/step - loss: 6.1843e-04 - accuracy: 1.0000 - val_loss: 1.5915 - val_accuracy: 0.8780\n"
          ]
        }
      ],
      "source": [
        "history = model.fit(X_train, y_train, epochs=50, validation_split=0.2)\n"
      ]
    },
    {
      "cell_type": "markdown",
      "metadata": {
        "id": "PiJ2ASewumbJ"
      },
      "source": [
        "This one for svm"
      ]
    },
    {
      "cell_type": "code",
      "execution_count": null,
      "metadata": {
        "colab": {
          "base_uri": "https://localhost:8080/"
        },
        "id": "k3jO8mUPqQcO",
        "outputId": "30a0691e-ae88-4b66-ed6b-16feffa8fb4b"
      },
      "outputs": [
        {
          "output_type": "stream",
          "name": "stdout",
          "text": [
            "7/7 [==============================] - 1s 23ms/step\n"
          ]
        }
      ],
      "source": [
        "cnn_features = model.predict(X_train)\n"
      ]
    },
    {
      "cell_type": "code",
      "execution_count": null,
      "metadata": {
        "id": "WOo6kM-iqQek"
      },
      "outputs": [],
      "source": [
        "cnn_features = cnn_features.reshape(cnn_features.shape[0], -1)"
      ]
    },
    {
      "cell_type": "code",
      "execution_count": null,
      "metadata": {
        "colab": {
          "base_uri": "https://localhost:8080/",
          "height": 74
        },
        "id": "HKGrFCKCqQiE",
        "outputId": "4c34143b-70fa-49f0-bd7b-aa6ffd99e3c4"
      },
      "outputs": [
        {
          "output_type": "execute_result",
          "data": {
            "text/plain": [
              "SVC(kernel='linear')"
            ],
            "text/html": [
              "<style>#sk-container-id-3 {color: black;background-color: white;}#sk-container-id-3 pre{padding: 0;}#sk-container-id-3 div.sk-toggleable {background-color: white;}#sk-container-id-3 label.sk-toggleable__label {cursor: pointer;display: block;width: 100%;margin-bottom: 0;padding: 0.3em;box-sizing: border-box;text-align: center;}#sk-container-id-3 label.sk-toggleable__label-arrow:before {content: \"▸\";float: left;margin-right: 0.25em;color: #696969;}#sk-container-id-3 label.sk-toggleable__label-arrow:hover:before {color: black;}#sk-container-id-3 div.sk-estimator:hover label.sk-toggleable__label-arrow:before {color: black;}#sk-container-id-3 div.sk-toggleable__content {max-height: 0;max-width: 0;overflow: hidden;text-align: left;background-color: #f0f8ff;}#sk-container-id-3 div.sk-toggleable__content pre {margin: 0.2em;color: black;border-radius: 0.25em;background-color: #f0f8ff;}#sk-container-id-3 input.sk-toggleable__control:checked~div.sk-toggleable__content {max-height: 200px;max-width: 100%;overflow: auto;}#sk-container-id-3 input.sk-toggleable__control:checked~label.sk-toggleable__label-arrow:before {content: \"▾\";}#sk-container-id-3 div.sk-estimator input.sk-toggleable__control:checked~label.sk-toggleable__label {background-color: #d4ebff;}#sk-container-id-3 div.sk-label input.sk-toggleable__control:checked~label.sk-toggleable__label {background-color: #d4ebff;}#sk-container-id-3 input.sk-hidden--visually {border: 0;clip: rect(1px 1px 1px 1px);clip: rect(1px, 1px, 1px, 1px);height: 1px;margin: -1px;overflow: hidden;padding: 0;position: absolute;width: 1px;}#sk-container-id-3 div.sk-estimator {font-family: monospace;background-color: #f0f8ff;border: 1px dotted black;border-radius: 0.25em;box-sizing: border-box;margin-bottom: 0.5em;}#sk-container-id-3 div.sk-estimator:hover {background-color: #d4ebff;}#sk-container-id-3 div.sk-parallel-item::after {content: \"\";width: 100%;border-bottom: 1px solid gray;flex-grow: 1;}#sk-container-id-3 div.sk-label:hover label.sk-toggleable__label {background-color: #d4ebff;}#sk-container-id-3 div.sk-serial::before {content: \"\";position: absolute;border-left: 1px solid gray;box-sizing: border-box;top: 0;bottom: 0;left: 50%;z-index: 0;}#sk-container-id-3 div.sk-serial {display: flex;flex-direction: column;align-items: center;background-color: white;padding-right: 0.2em;padding-left: 0.2em;position: relative;}#sk-container-id-3 div.sk-item {position: relative;z-index: 1;}#sk-container-id-3 div.sk-parallel {display: flex;align-items: stretch;justify-content: center;background-color: white;position: relative;}#sk-container-id-3 div.sk-item::before, #sk-container-id-3 div.sk-parallel-item::before {content: \"\";position: absolute;border-left: 1px solid gray;box-sizing: border-box;top: 0;bottom: 0;left: 50%;z-index: -1;}#sk-container-id-3 div.sk-parallel-item {display: flex;flex-direction: column;z-index: 1;position: relative;background-color: white;}#sk-container-id-3 div.sk-parallel-item:first-child::after {align-self: flex-end;width: 50%;}#sk-container-id-3 div.sk-parallel-item:last-child::after {align-self: flex-start;width: 50%;}#sk-container-id-3 div.sk-parallel-item:only-child::after {width: 0;}#sk-container-id-3 div.sk-dashed-wrapped {border: 1px dashed gray;margin: 0 0.4em 0.5em 0.4em;box-sizing: border-box;padding-bottom: 0.4em;background-color: white;}#sk-container-id-3 div.sk-label label {font-family: monospace;font-weight: bold;display: inline-block;line-height: 1.2em;}#sk-container-id-3 div.sk-label-container {text-align: center;}#sk-container-id-3 div.sk-container {/* jupyter's `normalize.less` sets `[hidden] { display: none; }` but bootstrap.min.css set `[hidden] { display: none !important; }` so we also need the `!important` here to be able to override the default hidden behavior on the sphinx rendered scikit-learn.org. See: https://github.com/scikit-learn/scikit-learn/issues/21755 */display: inline-block !important;position: relative;}#sk-container-id-3 div.sk-text-repr-fallback {display: none;}</style><div id=\"sk-container-id-3\" class=\"sk-top-container\"><div class=\"sk-text-repr-fallback\"><pre>SVC(kernel=&#x27;linear&#x27;)</pre><b>In a Jupyter environment, please rerun this cell to show the HTML representation or trust the notebook. <br />On GitHub, the HTML representation is unable to render, please try loading this page with nbviewer.org.</b></div><div class=\"sk-container\" hidden><div class=\"sk-item\"><div class=\"sk-estimator sk-toggleable\"><input class=\"sk-toggleable__control sk-hidden--visually\" id=\"sk-estimator-id-3\" type=\"checkbox\" checked><label for=\"sk-estimator-id-3\" class=\"sk-toggleable__label sk-toggleable__label-arrow\">SVC</label><div class=\"sk-toggleable__content\"><pre>SVC(kernel=&#x27;linear&#x27;)</pre></div></div></div></div></div>"
            ]
          },
          "metadata": {},
          "execution_count": 42
        }
      ],
      "source": [
        "# SVM Model\n",
        "svm_model = SVC(kernel='linear')\n",
        "svm_model.fit(cnn_features, y_train)"
      ]
    },
    {
      "cell_type": "code",
      "execution_count": null,
      "metadata": {
        "id": "jkO6gQGYqZuE",
        "colab": {
          "base_uri": "https://localhost:8080/"
        },
        "outputId": "b8036900-ea8a-4c78-931f-e011400fde44"
      },
      "outputs": [
        {
          "output_type": "stream",
          "name": "stdout",
          "text": [
            "2/2 [==============================] - 0s 17ms/step\n"
          ]
        }
      ],
      "source": [
        "# Extract features from the test data\n",
        "cnn_features_test = model.predict(X_test)\n",
        "cnn_features_test = cnn_features_test.reshape(cnn_features_test.shape[0], -1)\n"
      ]
    },
    {
      "cell_type": "code",
      "execution_count": null,
      "metadata": {
        "id": "ZEIbCevhqZxR",
        "colab": {
          "base_uri": "https://localhost:8080/"
        },
        "outputId": "8389246a-d842-41d5-eb1e-36db23da4088"
      },
      "outputs": [
        {
          "output_type": "stream",
          "name": "stdout",
          "text": [
            "Accuracy of SVM on Test Data: 84.31%\n"
          ]
        }
      ],
      "source": [
        "# Evaluate the SVM model\n",
        "svm_preds = svm_model.predict(cnn_features_test)\n",
        "svm_acc = np.sum(svm_preds == y_test) / len(y_test) * 100\n",
        "print(f\"Accuracy of SVM on Test Data: {svm_acc:.2f}%\")"
      ]
    },
    {
      "cell_type": "code",
      "source": [
        "# Compute confusion matrix\n",
        "cm = confusion_matrix(y_test, svm_preds)\n",
        "\n",
        "# Print confusion matrix\n",
        "print(\"Confusion Matrix:\")\n",
        "print(cm)\n"
      ],
      "metadata": {
        "colab": {
          "base_uri": "https://localhost:8080/"
        },
        "id": "XghuyMXqfnov",
        "outputId": "2e03986a-865d-4cf2-fe51-ccafb45f64f1"
      },
      "execution_count": null,
      "outputs": [
        {
          "output_type": "stream",
          "name": "stdout",
          "text": [
            "Confusion Matrix:\n",
            "[[26  1]\n",
            " [ 7 17]]\n"
          ]
        }
      ]
    },
    {
      "cell_type": "code",
      "source": [
        "from sklearn.metrics import confusion_matrix\n",
        "\n",
        "import matplotlib.pyplot as plt"
      ],
      "metadata": {
        "id": "gfHTmOy6a0jX"
      },
      "execution_count": null,
      "outputs": []
    },
    {
      "cell_type": "code",
      "source": [
        "svm_pred = model.predict(X_test)\n",
        "svm_pred = np.round(svm_pred).astype(int)\n",
        "svm_pred = np.squeeze(svm_pred)\n",
        "\n",
        "# Compute confusion matrix\n",
        "cm = confusion_matrix(y_test, svm_pred)\n",
        "\n",
        "# Print confusion matrix\n",
        "print(\"Confusion Matrix:\")\n",
        "print(cm)\n",
        "\n",
        "# Plot confusion matrix\n",
        "plt.imshow(cm, interpolation='nearest', cmap=plt.cm.Blues)\n",
        "plt.colorbar()\n",
        "tick_marks = np.arange(len(label_mapping))\n",
        "plt.xticks(tick_marks, label_mapping.keys())\n",
        "plt.yticks(tick_marks, label_mapping.keys())\n",
        "plt.xlabel('Predicted Label')\n",
        "plt.ylabel('True Label')\n",
        "plt.title('Confusion Matrix')\n",
        "plt.show()"
      ],
      "metadata": {
        "colab": {
          "base_uri": "https://localhost:8080/",
          "height": 722
        },
        "id": "dcqZql_Wa8gV",
        "outputId": "96e31aca-91ee-4c71-df2b-9082aadba848"
      },
      "execution_count": null,
      "outputs": [
        {
          "output_type": "stream",
          "name": "stdout",
          "text": [
            "2/2 [==============================] - 0s 11ms/step\n",
            "Confusion Matrix:\n",
            "[[26  1]\n",
            " [ 7 17]]\n"
          ]
        },
        {
          "output_type": "error",
          "ename": "NameError",
          "evalue": "ignored",
          "traceback": [
            "\u001b[0;31m---------------------------------------------------------------------------\u001b[0m",
            "\u001b[0;31mNameError\u001b[0m                                 Traceback (most recent call last)",
            "\u001b[0;32m<ipython-input-62-4373874db04e>\u001b[0m in \u001b[0;36m<cell line: 15>\u001b[0;34m()\u001b[0m\n\u001b[1;32m     13\u001b[0m \u001b[0mplt\u001b[0m\u001b[0;34m.\u001b[0m\u001b[0mimshow\u001b[0m\u001b[0;34m(\u001b[0m\u001b[0mcm\u001b[0m\u001b[0;34m,\u001b[0m \u001b[0minterpolation\u001b[0m\u001b[0;34m=\u001b[0m\u001b[0;34m'nearest'\u001b[0m\u001b[0;34m,\u001b[0m \u001b[0mcmap\u001b[0m\u001b[0;34m=\u001b[0m\u001b[0mplt\u001b[0m\u001b[0;34m.\u001b[0m\u001b[0mcm\u001b[0m\u001b[0;34m.\u001b[0m\u001b[0mBlues\u001b[0m\u001b[0;34m)\u001b[0m\u001b[0;34m\u001b[0m\u001b[0;34m\u001b[0m\u001b[0m\n\u001b[1;32m     14\u001b[0m \u001b[0mplt\u001b[0m\u001b[0;34m.\u001b[0m\u001b[0mcolorbar\u001b[0m\u001b[0;34m(\u001b[0m\u001b[0;34m)\u001b[0m\u001b[0;34m\u001b[0m\u001b[0;34m\u001b[0m\u001b[0m\n\u001b[0;32m---> 15\u001b[0;31m \u001b[0mtick_marks\u001b[0m \u001b[0;34m=\u001b[0m \u001b[0mnp\u001b[0m\u001b[0;34m.\u001b[0m\u001b[0marange\u001b[0m\u001b[0;34m(\u001b[0m\u001b[0mlen\u001b[0m\u001b[0;34m(\u001b[0m\u001b[0mlabel_mapping\u001b[0m\u001b[0;34m)\u001b[0m\u001b[0;34m)\u001b[0m\u001b[0;34m\u001b[0m\u001b[0;34m\u001b[0m\u001b[0m\n\u001b[0m\u001b[1;32m     16\u001b[0m \u001b[0mplt\u001b[0m\u001b[0;34m.\u001b[0m\u001b[0mxticks\u001b[0m\u001b[0;34m(\u001b[0m\u001b[0mtick_marks\u001b[0m\u001b[0;34m,\u001b[0m \u001b[0mlabel_mapping\u001b[0m\u001b[0;34m.\u001b[0m\u001b[0mkeys\u001b[0m\u001b[0;34m(\u001b[0m\u001b[0;34m)\u001b[0m\u001b[0;34m)\u001b[0m\u001b[0;34m\u001b[0m\u001b[0;34m\u001b[0m\u001b[0m\n\u001b[1;32m     17\u001b[0m \u001b[0mplt\u001b[0m\u001b[0;34m.\u001b[0m\u001b[0myticks\u001b[0m\u001b[0;34m(\u001b[0m\u001b[0mtick_marks\u001b[0m\u001b[0;34m,\u001b[0m \u001b[0mlabel_mapping\u001b[0m\u001b[0;34m.\u001b[0m\u001b[0mkeys\u001b[0m\u001b[0;34m(\u001b[0m\u001b[0;34m)\u001b[0m\u001b[0;34m)\u001b[0m\u001b[0;34m\u001b[0m\u001b[0;34m\u001b[0m\u001b[0m\n",
            "\u001b[0;31mNameError\u001b[0m: name 'label_mapping' is not defined"
          ]
        },
        {
          "output_type": "display_data",
          "data": {
            "text/plain": [
              "<Figure size 640x480 with 2 Axes>"
            ],
            "image/png": "[encoded data removed]"
          },
          "metadata": {}
        }
      ]
    },
    {
      "cell_type": "code",
      "execution_count": null,
      "metadata": {
        "id": "YSEeH1BpqeiL"
      },
      "outputs": [],
      "source": [
        "# from google.colab import drive\n",
        "# drive.mount('/content/drive')"
      ]
    },
    {
      "cell_type": "markdown",
      "metadata": {
        "id": "hbyag4qNuqfL"
      },
      "source": [
        "This is for the knn"
      ]
    },
    {
      "cell_type": "code",
      "execution_count": null,
      "metadata": {
        "colab": {
          "base_uri": "https://localhost:8080/"
        },
        "id": "e2M8JOfsusQK",
        "outputId": "b00b093e-0273-4739-894f-fc2942ceaea3"
      },
      "outputs": [
        {
          "output_type": "stream",
          "name": "stdout",
          "text": [
            "Accuracy on Evaluation (SVM and CNN): 84.31%\n",
            "Loss: 1.4979\n"
          ]
        }
      ],
      "source": [
        "result_cnn = model.evaluate(X_test, y_test, verbose=0)\n",
        "print(f\"Accuracy on Evaluation (SVM and CNN): {result_cnn[1]*100:.2f}%\\nLoss: {result_cnn[0]:.4f}\")\n"
      ]
    },
    {
      "cell_type": "code",
      "execution_count": null,
      "metadata": {
        "id": "EwDl5gqYusSP"
      },
      "outputs": [],
      "source": [
        "# Flatten the data for KNN\n",
        "X_train_flat = X_train.reshape(X_train.shape[0], -1)\n",
        "X_test_flat = X_test.reshape(X_test.shape[0], -1)"
      ]
    },
    {
      "cell_type": "code",
      "execution_count": null,
      "metadata": {
        "colab": {
          "base_uri": "https://localhost:8080/",
          "height": 74
        },
        "id": "yxy2rYZxusUB",
        "outputId": "e51152dc-8b80-48ce-fcd0-05dd40a52260"
      },
      "outputs": [
        {
          "output_type": "execute_result",
          "data": {
            "text/plain": [
              "KNeighborsClassifier()"
            ],
            "text/html": [
              "<style>#sk-container-id-4 {color: black;background-color: white;}#sk-container-id-4 pre{padding: 0;}#sk-container-id-4 div.sk-toggleable {background-color: white;}#sk-container-id-4 label.sk-toggleable__label {cursor: pointer;display: block;width: 100%;margin-bottom: 0;padding: 0.3em;box-sizing: border-box;text-align: center;}#sk-container-id-4 label.sk-toggleable__label-arrow:before {content: \"▸\";float: left;margin-right: 0.25em;color: #696969;}#sk-container-id-4 label.sk-toggleable__label-arrow:hover:before {color: black;}#sk-container-id-4 div.sk-estimator:hover label.sk-toggleable__label-arrow:before {color: black;}#sk-container-id-4 div.sk-toggleable__content {max-height: 0;max-width: 0;overflow: hidden;text-align: left;background-color: #f0f8ff;}#sk-container-id-4 div.sk-toggleable__content pre {margin: 0.2em;color: black;border-radius: 0.25em;background-color: #f0f8ff;}#sk-container-id-4 input.sk-toggleable__control:checked~div.sk-toggleable__content {max-height: 200px;max-width: 100%;overflow: auto;}#sk-container-id-4 input.sk-toggleable__control:checked~label.sk-toggleable__label-arrow:before {content: \"▾\";}#sk-container-id-4 div.sk-estimator input.sk-toggleable__control:checked~label.sk-toggleable__label {background-color: #d4ebff;}#sk-container-id-4 div.sk-label input.sk-toggleable__control:checked~label.sk-toggleable__label {background-color: #d4ebff;}#sk-container-id-4 input.sk-hidden--visually {border: 0;clip: rect(1px 1px 1px 1px);clip: rect(1px, 1px, 1px, 1px);height: 1px;margin: -1px;overflow: hidden;padding: 0;position: absolute;width: 1px;}#sk-container-id-4 div.sk-estimator {font-family: monospace;background-color: #f0f8ff;border: 1px dotted black;border-radius: 0.25em;box-sizing: border-box;margin-bottom: 0.5em;}#sk-container-id-4 div.sk-estimator:hover {background-color: #d4ebff;}#sk-container-id-4 div.sk-parallel-item::after {content: \"\";width: 100%;border-bottom: 1px solid gray;flex-grow: 1;}#sk-container-id-4 div.sk-label:hover label.sk-toggleable__label {background-color: #d4ebff;}#sk-container-id-4 div.sk-serial::before {content: \"\";position: absolute;border-left: 1px solid gray;box-sizing: border-box;top: 0;bottom: 0;left: 50%;z-index: 0;}#sk-container-id-4 div.sk-serial {display: flex;flex-direction: column;align-items: center;background-color: white;padding-right: 0.2em;padding-left: 0.2em;position: relative;}#sk-container-id-4 div.sk-item {position: relative;z-index: 1;}#sk-container-id-4 div.sk-parallel {display: flex;align-items: stretch;justify-content: center;background-color: white;position: relative;}#sk-container-id-4 div.sk-item::before, #sk-container-id-4 div.sk-parallel-item::before {content: \"\";position: absolute;border-left: 1px solid gray;box-sizing: border-box;top: 0;bottom: 0;left: 50%;z-index: -1;}#sk-container-id-4 div.sk-parallel-item {display: flex;flex-direction: column;z-index: 1;position: relative;background-color: white;}#sk-container-id-4 div.sk-parallel-item:first-child::after {align-self: flex-end;width: 50%;}#sk-container-id-4 div.sk-parallel-item:last-child::after {align-self: flex-start;width: 50%;}#sk-container-id-4 div.sk-parallel-item:only-child::after {width: 0;}#sk-container-id-4 div.sk-dashed-wrapped {border: 1px dashed gray;margin: 0 0.4em 0.5em 0.4em;box-sizing: border-box;padding-bottom: 0.4em;background-color: white;}#sk-container-id-4 div.sk-label label {font-family: monospace;font-weight: bold;display: inline-block;line-height: 1.2em;}#sk-container-id-4 div.sk-label-container {text-align: center;}#sk-container-id-4 div.sk-container {/* jupyter's `normalize.less` sets `[hidden] { display: none; }` but bootstrap.min.css set `[hidden] { display: none !important; }` so we also need the `!important` here to be able to override the default hidden behavior on the sphinx rendered scikit-learn.org. See: https://github.com/scikit-learn/scikit-learn/issues/21755 */display: inline-block !important;position: relative;}#sk-container-id-4 div.sk-text-repr-fallback {display: none;}</style><div id=\"sk-container-id-4\" class=\"sk-top-container\"><div class=\"sk-text-repr-fallback\"><pre>KNeighborsClassifier()</pre><b>In a Jupyter environment, please rerun this cell to show the HTML representation or trust the notebook. <br />On GitHub, the HTML representation is unable to render, please try loading this page with nbviewer.org.</b></div><div class=\"sk-container\" hidden><div class=\"sk-item\"><div class=\"sk-estimator sk-toggleable\"><input class=\"sk-toggleable__control sk-hidden--visually\" id=\"sk-estimator-id-4\" type=\"checkbox\" checked><label for=\"sk-estimator-id-4\" class=\"sk-toggleable__label sk-toggleable__label-arrow\">KNeighborsClassifier</label><div class=\"sk-toggleable__content\"><pre>KNeighborsClassifier()</pre></div></div></div></div></div>"
            ]
          },
          "metadata": {},
          "execution_count": 49
        }
      ],
      "source": [
        "# Train and evaluate KNN model\n",
        "knn = KNeighborsClassifier(n_neighbors=5)\n",
        "knn.fit(X_train_flat, y_train)"
      ]
    },
    {
      "cell_type": "code",
      "execution_count": null,
      "metadata": {
        "colab": {
          "base_uri": "https://localhost:8080/"
        },
        "id": "q_BwSYcmusVr",
        "outputId": "b58c1f8f-3dfe-4759-c812-c11a68b5e9aa"
      },
      "outputs": [
        {
          "output_type": "stream",
          "name": "stdout",
          "text": [
            "Accuracy on Evaluation (CNN AND KNN): 80.39%\n"
          ]
        }
      ],
      "source": [
        "y_pred_knn = knn.predict(X_test_flat)\n",
        "acc_knn = np.mean(y_pred_knn == y_test)\n",
        "print(f\"Accuracy on Evaluation (CNN AND KNN): {acc_knn*100:.2f}%\")"
      ]
    },
    {
      "cell_type": "code",
      "execution_count": null,
      "metadata": {
        "colab": {
          "base_uri": "https://localhost:8080/"
        },
        "id": "enUa6osxusXd",
        "outputId": "f591ac1b-9a8c-4950-d634-1c1afc378880"
      },
      "outputs": [
        {
          "output_type": "stream",
          "name": "stdout",
          "text": [
            "2/2 [==============================] - 0s 10ms/step\n"
          ]
        }
      ],
      "source": [
        "\n",
        "y_pred_cnn = model.predict(X_test)\n",
        "y_pred_cnn = (y_pred_cnn > 0.5).astype(int)  # Convert predicted probabilities to binary labels (0 or 1)"
      ]
    },
    {
      "cell_type": "code",
      "execution_count": null,
      "metadata": {
        "id": "DahBpiLwusa0",
        "colab": {
          "base_uri": "https://localhost:8080/"
        },
        "outputId": "161f24bf-3759-4df6-ef14-861ba13fda76"
      },
      "outputs": [
        {
          "output_type": "execute_result",
          "data": {
            "text/plain": [
              "array([[1],\n",
              "       [0],\n",
              "       [0],\n",
              "       [1],\n",
              "       [0],\n",
              "       [1],\n",
              "       [0],\n",
              "       [1],\n",
              "       [0],\n",
              "       [0],\n",
              "       [1],\n",
              "       [1],\n",
              "       [1],\n",
              "       [1],\n",
              "       [0],\n",
              "       [0],\n",
              "       [0],\n",
              "       [0],\n",
              "       [0],\n",
              "       [0],\n",
              "       [1],\n",
              "       [0],\n",
              "       [0],\n",
              "       [0],\n",
              "       [0],\n",
              "       [0],\n",
              "       [1],\n",
              "       [1],\n",
              "       [0],\n",
              "       [0],\n",
              "       [0],\n",
              "       [0],\n",
              "       [0],\n",
              "       [0],\n",
              "       [1],\n",
              "       [0],\n",
              "       [0],\n",
              "       [0],\n",
              "       [1],\n",
              "       [0],\n",
              "       [1],\n",
              "       [0],\n",
              "       [1],\n",
              "       [0],\n",
              "       [0],\n",
              "       [0],\n",
              "       [0],\n",
              "       [0],\n",
              "       [1],\n",
              "       [1],\n",
              "       [1]])"
            ]
          },
          "metadata": {},
          "execution_count": 52
        }
      ],
      "source": [
        "y_pred_cnn"
      ]
    },
    {
      "cell_type": "code",
      "source": [
        "# Get predictions\n",
        "predictions = model.predict(norm_data)\n",
        "y_pred = np.round(predictions).flatten().astype(int)\n",
        "\n",
        "# Compute confusion matrix\n",
        "cm = confusion_matrix(labels, y_pred)\n",
        "\n",
        "# Print confusion matrix\n",
        "print(\"Confusion Matrix:\")\n",
        "print(cm)\n"
      ],
      "metadata": {
        "colab": {
          "base_uri": "https://localhost:8080/"
        },
        "id": "kdDWlZXhfERo",
        "outputId": "a305a5ea-7bc0-4eb9-e9a4-94d5b5409b55"
      },
      "execution_count": null,
      "outputs": [
        {
          "output_type": "stream",
          "name": "stdout",
          "text": [
            "8/8 [==============================] - 0s 18ms/step\n",
            "Confusion Matrix:\n",
            "[[154   1   0]\n",
            " [ 11  87   0]\n",
            " [  1   0   0]]\n"
          ]
        }
      ]
    },
    {
      "cell_type": "code",
      "source": [
        "import matplotlib.pyplot as plt\n",
        "from sklearn.metrics import confusion_matrix\n",
        "import numpy as np\n",
        "\n",
        "# Confusion matrix values\n",
        "cm_multiclass = np.array([[154, 1, 0],\n",
        "                          [11, 87, 0],\n",
        "                          [1, 0, 0]])\n",
        "\n",
        "# Define multi-class labels\n",
        "multiclass_classes = ['Grade I', 'Grade II', 'Grade III']\n",
        "\n",
        "# Plot multi-class confusion matrix\n",
        "plt.imshow(cm_multiclass, interpolation='nearest', cmap=plt.cm.Blues)\n",
        "plt.title('Multi-Class Confusion Matrix')\n",
        "plt.colorbar()\n",
        "\n",
        "# Add labels to the multi-class confusion matrix plot\n",
        "tick_marks_multiclass = np.arange(len(multiclass_classes))\n",
        "plt.xticks(tick_marks_multiclass, multiclass_classes)\n",
        "plt.yticks(tick_marks_multiclass, multiclass_classes)\n",
        "\n",
        "thresh_multiclass = cm_multiclass.max() / 2.0\n",
        "for i in range(cm_multiclass.shape[0]):\n",
        "    for j in range(cm_multiclass.shape[1]):\n",
        "        plt.text(j, i, format(cm_multiclass[i, j], 'd'),\n",
        "                 horizontalalignment=\"center\",\n",
        "                 color=\"white\" if cm_multiclass[i, j] > thresh_multiclass else \"black\")\n",
        "\n",
        "plt.xlabel('Predicted label')\n",
        "plt.ylabel('True label')\n",
        "plt.show()\n"
      ],
      "metadata": {
        "colab": {
          "base_uri": "https://localhost:8080/",
          "height": 472
        },
        "id": "P1wyZ3l7TjHQ",
        "outputId": "218b1ae7-470c-4a26-da0d-b2fc688310a6"
      },
      "execution_count": null,
      "outputs": [
        {
          "output_type": "display_data",
          "data": {
            "text/plain": [
              "<Figure size 640x480 with 2 Axes>"
            ],
            "image/png": "[encoded data removed]"
          },
          "metadata": {}
        }
      ]
    }
  ],
  "metadata": {
    "accelerator": "GPU",
    "colab": {
      "provenance": []
    },
    "gpuClass": "standard",
    "kernelspec": {
      "display_name": "Python 3",
      "name": "python3"
    },
    "language_info": {
      "name": "python"
    }
  },
  "nbformat": 4,
  "nbformat_minor": 0
}